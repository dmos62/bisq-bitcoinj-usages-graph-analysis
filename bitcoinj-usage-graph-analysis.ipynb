{
 "cells": [
  {
   "cell_type": "code",
   "execution_count": null,
   "metadata": {},
   "outputs": [],
   "source": [
    "using Pkg;\n",
    "\n",
    "Pkg.add(\"LightGraphs\");\n",
    "Pkg.add(\"Lazy\");\n",
    "Pkg.add(\"MetaGraphs\");\n",
    "Pkg.add(\"GraphIO\");\n",
    "Pkg.add(\"GraphPlot\")"
   ]
  },
  {
   "cell_type": "code",
   "execution_count": null,
   "metadata": {},
   "outputs": [],
   "source": [
    "Pkg.add(\"Colors\")"
   ]
  },
  {
   "cell_type": "code",
   "execution_count": 21,
   "metadata": {},
   "outputs": [],
   "source": [
    "using LightGraphs\n",
    "using Lazy: @>, @>>, @as\n",
    "using MetaGraphs;\n",
    "using GraphIO;\n",
    "using GraphPlot;"
   ]
  },
  {
   "cell_type": "code",
   "execution_count": 31,
   "metadata": {},
   "outputs": [],
   "source": [
    "using Colors;"
   ]
  },
  {
   "cell_type": "markdown",
   "metadata": {},
   "source": [
    "`jdeps -v -dotoutput dot core/build/classes/java/main/`\n",
    "\n",
    "`-i` reiskia inplace:\n",
    "\n",
    "`sed -i -e 's/ (.*)//g' ./dot/main.dot`\n",
    "\n",
    "tada galiu importuoti main.dot faila su GraphIO.jl"
   ]
  },
  {
   "cell_type": "markdown",
   "metadata": {},
   "source": [
    "kazko dar reikia kad sumazinti grafa\n",
    "\n",
    "ismes nereikalingus edge'us:\n",
    "\n",
    "`grep -E '(.*bisq.*->.*bitcoinj.*|.*bisq.*->.*bisq.*|}|^digraph.*)'`\n",
    "\n",
    "reikes pipinti i nauja faila (sena netinka), nes grep negali inplace editinti"
   ]
  },
  {
   "cell_type": "code",
   "execution_count": null,
   "metadata": {},
   "outputs": [],
   "source": [
    "g = loadgraph(\"core.dot\", \"main\", GraphIO.DOTFormat());"
   ]
  },
  {
   "cell_type": "code",
   "execution_count": 25,
   "metadata": {},
   "outputs": [
    {
     "data": {
      "text/plain": [
       "1146"
      ]
     },
     "execution_count": 25,
     "metadata": {},
     "output_type": "execute_result"
    }
   ],
   "source": [
    "nv(g)"
   ]
  },
  {
   "cell_type": "code",
   "execution_count": 28,
   "metadata": {},
   "outputs": [],
   "source": [
    "btwns = betweenness_centrality(g)"
   ]
  },
  {
   "cell_type": "code",
   "execution_count": 100,
   "metadata": {},
   "outputs": [
    {
     "data": {
      "text/plain": [
       "staircase (generic function with 1 method)"
      ]
     },
     "execution_count": 100,
     "metadata": {},
     "output_type": "execute_result"
    }
   ],
   "source": [
    "#maximum(btwns)\n",
    "scaler(X, a, b) = begin\n",
    "    max_X = maximum(X)\n",
    "    min_X = minimum(X)\n",
    "    return x -> (((b - a) * (x - min_X)) / (max_X - min_X)) + a\n",
    "    end\n",
    "\n",
    "scale_to(a, b, X) = @>> X map(scaler(X, a, b))\n",
    "\n",
    "staircase(n) = x -> @>> ((x * (n-1)) + 1) round(Int)"
   ]
  },
  {
   "cell_type": "code",
   "execution_count": 120,
   "metadata": {},
   "outputs": [],
   "source": [
    "using Statistics"
   ]
  },
  {
   "cell_type": "code",
   "execution_count": 176,
   "metadata": {},
   "outputs": [],
   "source": [
    "number_of_colors = 1000\n",
    "#color_range = range(HSL(colorant\"red\"), stop=HSL(colorant\"green\"), length=number_of_colors)\n",
    "color_range = colormap(\"RdBu\", number_of_colors, mid=0.5, logscale=true)\n",
    "color_range = reverse(color_range)\n",
    "nodefillc = \n",
    "@>> begin\n",
    "    btwns\n",
    "    scale_to(0, 1)\n",
    "    map(staircase(number_of_colors))\n",
    "    getindex(color_range)\n",
    "    end;"
   ]
  },
  {
   "cell_type": "code",
   "execution_count": 125,
   "metadata": {},
   "outputs": [],
   "source": [
    "@> begin\n",
    "    scale_to(0, 1, btwns)\n",
    "    quantile(0.75)\n",
    "    end"
   ]
  },
  {
   "cell_type": "code",
   "execution_count": 177,
   "metadata": {},
   "outputs": [
    {
     "data": {
      "image/svg+xml": [
       "<?xml version=\"1.0\" encoding=\"UTF-8\"?>\n",
       "<!DOCTYPE svg PUBLIC \"-//W3C//DTD SVG 1.1//EN\"\n",
       " \"http://www.w3.org/Graphics/SVG/1.1/DTD/svg11.dtd\">\n",
       "<svg xmlns=\"http://www.w3.org/2000/svg\" version=\"1.1\"\n",
       "     width=\"125mm\" height=\"25mm\"\n",
       "     viewBox=\"0 0 5 1\" preserveAspectRatio=\"none\"\n",
       "     shape-rendering=\"crispEdges\" stroke=\"none\">\n",
       "<rect width=\".96\" height=\".96\" x=\"0\" y=\"0\" fill=\"#082C59\" />\n",
       "<rect width=\".96\" height=\".96\" x=\"1\" y=\"0\" fill=\"#DCF0FC\" />\n",
       "<rect width=\".96\" height=\".96\" x=\"2\" y=\"0\" fill=\"#F0F9FE\" />\n",
       "<rect width=\".96\" height=\".96\" x=\"3\" y=\"0\" fill=\"#FFE6DF\" />\n",
       "<rect width=\".96\" height=\".96\" x=\"4\" y=\"0\" fill=\"#610102\" />\n",
       "</svg>"
      ],
      "text/plain": [
       "5-element Array{RGB{Float64},1} with eltype RGB{Float64}:\n",
       " RGB{Float64}(0.03279600471716905,0.17166960015988383,0.34731176297219435)\n",
       " RGB{Float64}(0.8644460242021481,0.9420479359366823,0.9865010670883213)\n",
       " RGB{Float64}(0.9416995923661133,0.9766537564572267,0.9951579912545793)\n",
       " RGB{Float64}(1.0,0.9024354503900843,0.8752670307632481)\n",
       " RGB{Float64}(0.37862450906363854,0.005629812389804824,0.00639579230016143)"
      ]
     },
     "execution_count": 177,
     "metadata": {},
     "output_type": "execute_result"
    }
   ],
   "source": [
    "color_range[[1, 250, 500, 750, 1000]]"
   ]
  },
  {
   "cell_type": "code",
   "execution_count": null,
   "metadata": {},
   "outputs": [],
   "source": [
    "gplot(g, nodefillc=nodefillc)"
   ]
  },
  {
   "cell_type": "code",
   "execution_count": 197,
   "metadata": {},
   "outputs": [
    {
     "data": {
      "text/plain": [
       "true"
      ]
     },
     "execution_count": 197,
     "metadata": {},
     "output_type": "execute_result"
    }
   ],
   "source": []
  }
 ],
 "metadata": {
  "kernelspec": {
   "display_name": "Julia 1.4.0",
   "language": "julia",
   "name": "julia-1.4"
  },
  "language_info": {
   "file_extension": ".jl",
   "mimetype": "application/julia",
   "name": "julia",
   "version": "1.4.0"
  }
 },
 "nbformat": 4,
 "nbformat_minor": 4
}
